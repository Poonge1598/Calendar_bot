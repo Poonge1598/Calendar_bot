{
 "cells": [
  {
   "cell_type": "markdown",
   "metadata": {},
   "source": [
    "### BEFORE STARTING, be sure to:\n",
    "- Have a file just named \".env\" in the same directory as this notebook that contains your own OpenAI API key. The file should just contain the line `OPENAI_API_KEY=your-api-key-here`.\n",
    "- Have the file \"credentials.json\" and/or \"token.json\" in the same directory as this notebook. This file should contain the credentials for the Google Sheets API.\n",
    "- Be connected on the Google Account \"ai.calendar.assistant@gmail.com\" with password \"advancedapplicationsofAI2024\" if you want to see the changes in the Google Calendar."
   ]
  },
  {
   "cell_type": "markdown",
   "metadata": {},
   "source": [
    "### Let's get started!"
   ]
  },
  {
   "cell_type": "code",
   "execution_count": 226,
   "metadata": {},
   "outputs": [
    {
     "name": "stdout",
     "output_type": "stream",
     "text": [
      "Environment variables loaded successfully\n"
     ]
    }
   ],
   "source": [
    "import os\n",
    "from openai import OpenAI\n",
    "from dotenv import load_dotenv\n",
    "import json\n",
    "from datetime import datetime, timedelta\n",
    "from IPython.display import Markdown\n",
    "\n",
    "\n",
    "# Loading the environment variables to access the OpenAI API key\n",
    "env_loaded = load_dotenv()\n",
    "if env_loaded:\n",
    "    print(\"Environment variables loaded successfully\")\n",
    "\n",
    "# Creating an instance of the OpenAI class to access the API\n",
    "client = OpenAI(api_key=os.getenv(\"OPENAI_API_KEY\"))\n",
    "\n",
    "GPT_VERSION_NAME = \"gpt-4o\""
   ]
  },
  {
   "cell_type": "markdown",
   "metadata": {},
   "source": [
    "### Simple message completion"
   ]
  },
  {
   "cell_type": "code",
   "execution_count": 223,
   "metadata": {},
   "outputs": [],
   "source": [
    "def get_chatgpt_answer(messages, tools=None, gpt_model=GPT_VERSION_NAME):\n",
    "    generated_response = client.chat.completions.create(\n",
    "        model=gpt_model,\n",
    "        messages=messages,\n",
    "        tools=tools\n",
    "    )\n",
    "    \n",
    "    message = generated_response.choices[0].message\n",
    "    return message"
   ]
  },
  {
   "cell_type": "code",
   "execution_count": 224,
   "metadata": {},
   "outputs": [
    {
     "name": "stdout",
     "output_type": "stream",
     "text": [
      "ChatCompletionMessage(content=\"Today's date is October 29, 2023.\", role='assistant', function_call=None, tool_calls=None)\n"
     ]
    }
   ],
   "source": [
    "generated_response = get_chatgpt_answer( \n",
    "    [{\"role\": \"system\", \"content\": \"You write very short replies.\"},\n",
    "    {\"role\": \"user\", \"content\": \"What is the date today?\"}]\n",
    ")\n",
    "print(generated_response)"
   ]
  },
  {
   "cell_type": "markdown",
   "metadata": {},
   "source": [
    "### How to use a function (on a fake example)"
   ]
  },
  {
   "cell_type": "markdown",
   "metadata": {},
   "source": [
    "Define the functions"
   ]
  },
  {
   "cell_type": "code",
   "execution_count": 124,
   "metadata": {},
   "outputs": [],
   "source": [
    "def retrieve_secret_key_id(letter):\n",
    "    if letter == 'A':\n",
    "        return 13271\n",
    "    elif letter == 'B':\n",
    "        return 72342\n",
    "    else:\n",
    "        return \"not found\""
   ]
  },
  {
   "cell_type": "markdown",
   "metadata": {},
   "source": [
    "Define function names and tools"
   ]
  },
  {
   "cell_type": "code",
   "execution_count": 197,
   "metadata": {},
   "outputs": [],
   "source": [
    "function_dict = {\n",
    "    'retrieve_secret_key_id': retrieve_secret_key_id\n",
    "}\n",
    "\n",
    "tools = [\n",
    "    {\n",
    "        'type': 'function',\n",
    "        'function': {\n",
    "            'name': 'retrieve_secret_key_id',\n",
    "            'description': 'Retrieves the secret key id of a letter',\n",
    "            'parameters': {\n",
    "                'type': 'object',\n",
    "                'properties': {\n",
    "                    'letter': {\n",
    "                        'type': 'string',\n",
    "                        'description': 'The letter for which we want to retrieve the secret key id'\n",
    "                    }\n",
    "                },\n",
    "                'required': ['letter']\n",
    "            }\n",
    "        }\n",
    "    }\n",
    "]"
   ]
  },
  {
   "cell_type": "markdown",
   "metadata": {},
   "source": [
    "1) System + user prompt (including tool instructions)"
   ]
  },
  {
   "cell_type": "code",
   "execution_count": 178,
   "metadata": {},
   "outputs": [
    {
     "name": "stdout",
     "output_type": "stream",
     "text": [
      "[{'role': 'system', 'content': \"Don't make assumptions about what values to plug into functions. Ask for clarification if a user request is ambiguous.\"}, {'role': 'user', 'content': \"What's the secret key of the letter B?\"}]\n"
     ]
    }
   ],
   "source": [
    "user_prompt = \"What's the secret key of the letter B?\"\n",
    "\n",
    "messages = [\n",
    "        {\"role\": \"system\", \"content\": \"Don't make assumptions about what values to plug into functions. Ask for clarification if a user request is ambiguous.\"},\n",
    "        {\"role\": \"user\", \"content\": f\"{user_prompt}\"}\n",
    "    ]\n",
    "\n",
    "print(messages)"
   ]
  },
  {
   "cell_type": "markdown",
   "metadata": {},
   "source": [
    "2) Chatgpt tool calls"
   ]
  },
  {
   "cell_type": "code",
   "execution_count": 179,
   "metadata": {},
   "outputs": [
    {
     "name": "stdout",
     "output_type": "stream",
     "text": [
      "ChatCompletionMessage(content=None, role='assistant', function_call=None, tool_calls=[ChatCompletionMessageToolCall(id='call_pajRYf8Y2lFiadZvyhpK0uRw', function=Function(arguments='{\"letter\":\"B\"}', name='retrieve_secret_key_id'), type='function')])\n"
     ]
    }
   ],
   "source": [
    "message = get_chatgpt_answer(messages, tools=tools)\n",
    "tool_calls = message.tool_calls\n",
    "messages.append(message)\n",
    "\n",
    "print(message)"
   ]
  },
  {
   "cell_type": "markdown",
   "metadata": {},
   "source": [
    "3. Calling the function ourselves"
   ]
  },
  {
   "cell_type": "code",
   "execution_count": 180,
   "metadata": {},
   "outputs": [
    {
     "name": "stdout",
     "output_type": "stream",
     "text": [
      "[{'tool_call_id': 'call_pajRYf8Y2lFiadZvyhpK0uRw', 'role': 'tool', 'name': 'retrieve_secret_key_id', 'content': '72342'}]\n"
     ]
    }
   ],
   "source": [
    "def execute_tool_calls(messages, tool_calls, function_dict):\n",
    "\n",
    "    tool_results = []\n",
    "    \n",
    "    # Execute tools one by one\n",
    "    for tool_call in tool_calls:\n",
    "\n",
    "        # Get the name\n",
    "        name_of_function_gpt_wants_to_call = tool_call.function.name\n",
    "\n",
    "        # Get the arguments\n",
    "        arguments = json.loads(tool_call.function.arguments)\n",
    "        \n",
    "        # Check if the function name exists\n",
    "        if name_of_function_gpt_wants_to_call in function_dict:\n",
    "            # Get the function\n",
    "            function_to_call = function_dict[name_of_function_gpt_wants_to_call]\n",
    "            \n",
    "            # Call the function with the provided arguments\n",
    "            result = function_to_call(**arguments)\n",
    "\n",
    "            # Add the result to the list\n",
    "            tool_results.append(\n",
    "                {\n",
    "                    \"tool_call_id\": tool_call.id,\n",
    "                    \"role\": \"tool\",\n",
    "                    \"name\": name_of_function_gpt_wants_to_call,\n",
    "                    \"content\": str(result),\n",
    "                }\n",
    "            )\n",
    "    return tool_results\n",
    "\n",
    "tool_results = execute_tool_calls(messages, tool_calls, function_dict)\n",
    "for tool_result in tool_results:\n",
    "    messages.append(tool_result)\n",
    "\n",
    "print(tool_results)"
   ]
  },
  {
   "cell_type": "markdown",
   "metadata": {},
   "source": [
    "4. Chatgpt 2nd message (using the entire discussion including the tool result to give a final message)"
   ]
  },
  {
   "cell_type": "code",
   "execution_count": 181,
   "metadata": {},
   "outputs": [
    {
     "name": "stdout",
     "output_type": "stream",
     "text": [
      "ChatCompletionMessage(content='The secret key of the letter B is 72342.', role='assistant', function_call=None, tool_calls=None)\n"
     ]
    }
   ],
   "source": [
    "# Get a new response from the model where it can see the function response\n",
    "message = get_chatgpt_answer(messages, tools=tools)\n",
    "messages.append(message)\n",
    "\n",
    "print(message)"
   ]
  },
  {
   "cell_type": "markdown",
   "metadata": {},
   "source": [
    "### Creating the function that gives chatgpt the ability to automatically call functions"
   ]
  },
  {
   "cell_type": "code",
   "execution_count": 306,
   "metadata": {},
   "outputs": [],
   "source": [
    "def ask_chatgpt_with_tools(user_prompt, function_dict, tools, verbose=False):\n",
    "\n",
    "    # Add the user prompt to the messages\n",
    "    messages.append({\"role\": \"user\", \"content\": f\"{user_prompt}\"})\n",
    "\n",
    "    # Get the answer from the model\n",
    "    message = get_chatgpt_answer(messages, tools=tools)\n",
    "    messages.append(message)\n",
    "    \n",
    "    # Execute the tools and get new reply while tools are requested\n",
    "    while message.tool_calls:\n",
    "        tool_calls = message.tool_calls\n",
    "        if tool_calls:\n",
    "            tool_results = execute_tool_calls(messages, tool_calls, function_dict)\n",
    "            for tool_result in tool_results:\n",
    "                messages.append(tool_result)\n",
    "\n",
    "            # Get the new answer\n",
    "            message = get_chatgpt_answer(messages, tools=tools)\n",
    "            messages.append(message)\n",
    "    \n",
    "    if verbose:\n",
    "        for message in messages:\n",
    "            print(message)\n",
    "            \n",
    "    return message.content"
   ]
  },
  {
   "cell_type": "markdown",
   "metadata": {},
   "source": [
    "### Creating the real functions we will use (Google API)"
   ]
  },
  {
   "cell_type": "markdown",
   "metadata": {},
   "source": [
    "Create a client"
   ]
  },
  {
   "cell_type": "code",
   "execution_count": 173,
   "metadata": {},
   "outputs": [],
   "source": [
    "import datetime\n",
    "import os.path\n",
    "\n",
    "from google.auth.transport.requests import Request\n",
    "from google.oauth2.credentials import Credentials\n",
    "from google_auth_oauthlib.flow import InstalledAppFlow\n",
    "from googleapiclient.discovery import build\n",
    "from googleapiclient.errors import HttpError\n",
    "\n",
    "# If modifying these scopes, delete the file token.json.\n",
    "SCOPES = [\"https://www.googleapis.com/auth/calendar\"]\n",
    "\n",
    "\n",
    "# create or refresh token\n",
    "creds = None\n",
    "\n",
    "#if token already exists, load it\n",
    "if os.path.exists(\"token.json\"):\n",
    "    creds = Credentials.from_authorized_user_file(\"token.json\", SCOPES)\n",
    "#if token is not valid, either refresh it or get a new one\n",
    "if not creds or not creds.valid:\n",
    "    if creds and creds.expired and creds.refresh_token:\n",
    "        creds.refresh(Request()) #refresh the token \n",
    "    else:\n",
    "        flow = InstalledAppFlow.from_client_secrets_file(\"credentials.json\", SCOPES) #get a new token\n",
    "        creds = flow.run_local_server(port=8080)\n",
    "\n",
    "# store token into \"token.json\"\n",
    "with open(\"token.json\", \"w\") as token:\n",
    "    token.write(creds.to_json())\n",
    "\n",
    "# Creating the client for the calendar service\n",
    "service = build(\"calendar\", \"v3\", credentials=creds)"
   ]
  },
  {
   "cell_type": "markdown",
   "metadata": {},
   "source": [
    "#### Functions"
   ]
  },
  {
   "cell_type": "markdown",
   "metadata": {},
   "source": [
    "Function to retrieve events "
   ]
  },
  {
   "cell_type": "code",
   "execution_count": 324,
   "metadata": {},
   "outputs": [],
   "source": [
    "# Retrieving events from the primary calendar with flexible parameters\n",
    "def get_events(start_time=None, end_time=None, max_results=30, time_zone='Europe/Paris'):\n",
    "    \n",
    "    # Set default values for start_time and end_time if not provided\n",
    "    if not start_time:\n",
    "        start_time = datetime.utcnow().isoformat() + \"Z\"  # 'Z' indicates UTC time\n",
    "    if not end_time:\n",
    "        end_time = (datetime.utcnow() + timedelta(days=7)).isoformat() + \"Z\"\n",
    "\n",
    "    # Call the Calendar API to retrieve events\n",
    "    call_output = (\n",
    "        service.events()\n",
    "        .list(\n",
    "            calendarId=\"primary\",\n",
    "            timeMin=start_time,\n",
    "            timeMax=end_time,\n",
    "            maxResults=max_results,\n",
    "            singleEvents=True,\n",
    "            orderBy=\"startTime\",\n",
    "            timeZone=time_zone\n",
    "        )\n",
    "        .execute()\n",
    "    )\n",
    "\n",
    "    # Extract the events from the response\n",
    "    events = call_output.get(\"items\", [])\n",
    "\n",
    "    events_str_list = []\n",
    "    for event in events:\n",
    "        # Extract the event information\n",
    "        event_id = event.get(\"id\")\n",
    "        start = event.get(\"start\", {}).get(\"dateTime\", event.get(\"start\", {}).get(\"date\"))\n",
    "        end = event.get(\"end\", {}).get(\"dateTime\", event.get(\"end\", {}).get(\"date\"))\n",
    "        summary = event.get(\"summary\", \"No Title\")\n",
    "        description = event.get(\"description\", \"No Description\")\n",
    "        location = event.get(\"location\", \"No Location\")\n",
    "\n",
    "        # Format the event into a string\n",
    "        event_str = f\"Event: {summary}\\nID: {event_id}\\nStart: {start}\\nEnd: {end}\\nDescription: {description}\\nLocation: {location}\"\n",
    "        events_str_list.append(event_str)\n",
    "\n",
    "    # Concatenate the events into a string\n",
    "    events_str = \"\\n___\\n\".join(events_str_list)\n",
    "\n",
    "    return events_str"
   ]
  },
  {
   "cell_type": "markdown",
   "metadata": {},
   "source": [
    "Function to move an event"
   ]
  },
  {
   "cell_type": "code",
   "execution_count": 300,
   "metadata": {},
   "outputs": [],
   "source": [
    "def move_event(event_id, new_start_time, new_end_time):\n",
    "    # Build the event details with the new times\n",
    "    event_details = {\n",
    "        \"start\": {\"dateTime\": new_start_time, \"timeZone\": \"Europe/Paris\"},\n",
    "        \"end\": {\"dateTime\": new_end_time, \"timeZone\": \"Europe/Paris\"}\n",
    "    }\n",
    "\n",
    "    # Call the Calendar API to update the event\n",
    "    updated_event = (service.events().patch(calendarId=\"primary\", eventId=event_id, body=event_details).execute())\n",
    "\n",
    "    return {\"status\": updated_event[\"status\"]}"
   ]
  },
  {
   "cell_type": "markdown",
   "metadata": {},
   "source": [
    "Function to add an event"
   ]
  },
  {
   "cell_type": "code",
   "execution_count": 272,
   "metadata": {},
   "outputs": [
    {
     "name": "stdout",
     "output_type": "stream",
     "text": [
      "{'status': 'confirmed'}\n"
     ]
    }
   ],
   "source": [
    "def add_event(meeting_name, start_time, duration_minutes=60, reminder_minutes=60):\n",
    "    # Calculate end time based on start time and duration\n",
    "    start_dt = datetime.fromisoformat(start_time)\n",
    "    end_dt = start_dt + timedelta(minutes=duration_minutes)\n",
    "    end_time = end_dt.isoformat()\n",
    "\n",
    "    # Build the event details\n",
    "    event_details = {\n",
    "        \"summary\": meeting_name,\n",
    "        \"start\": {\"dateTime\": start_time, \"timeZone\": \"Europe/Paris\"},\n",
    "        \"end\": {\"dateTime\": end_time, \"timeZone\": \"Europe/Paris\"},\n",
    "        \"reminders\": {\n",
    "            \"useDefault\": False,\n",
    "            \"overrides\": [\n",
    "                {\"method\": \"popup\", \"minutes\": reminder_minutes}\n",
    "            ]\n",
    "        }\n",
    "    }\n",
    "\n",
    "    # Call the Calendar API to create a new event\n",
    "    created_event = (\n",
    "        service.events()\n",
    "        .insert(calendarId=\"primary\", body=event_details)\n",
    "        .execute()\n",
    "    )\n",
    "\n",
    "    return {\"status\": created_event[\"status\"]}\n",
    "\n",
    "created_event = add_event(\"Meeting with Boby\", \"2024-06-10T09:00:00\", duration_minutes=45, reminder_minutes=30)\n",
    "print(created_event)"
   ]
  },
  {
   "cell_type": "markdown",
   "metadata": {},
   "source": [
    "### Calling our chatgpt with access to all functions"
   ]
  },
  {
   "cell_type": "code",
   "execution_count": 325,
   "metadata": {},
   "outputs": [
    {
     "data": {
      "text/markdown": [
       "Here's the updated schedule for the next two days:\n",
       "\n",
       "### June 10th:\n",
       "- **12:30 - 13:15**: Meeting with Pierre\n",
       "- **13:45 - 14:45**: Go Shopping\n",
       "- **16:00 - 16:45**: Meeting with Boby\n",
       "- **17:00 - 18:00**: Go Shopping\n",
       "- **18:00 - 19:00**: Go Shopping\n",
       "- **19:00 - 20:00**: Walking the dog\n",
       "\n",
       "### June 11th:\n",
       "- **10:00 - 10:45**: Workout\n",
       "- **11:45 - 12:45**: Go to ESSEC\n",
       "- **13:00 - 14:00**: Cook the meal\n",
       "\n",
       "Your schedule has been reorganized to avoid overlapping commitments and ensure a smoother flow."
      ],
      "text/plain": [
       "<IPython.core.display.Markdown object>"
      ]
     },
     "execution_count": 325,
     "metadata": {},
     "output_type": "execute_result"
    }
   ],
   "source": [
    "# Define function dictionary\n",
    "function_dict = {\n",
    "    'get_events': get_events,\n",
    "    'add_event': add_event,\n",
    "    'move_event': move_event\n",
    "}\n",
    "\n",
    "# Define tools\n",
    "tools = [\n",
    "    {\n",
    "        'type': 'function',\n",
    "        'function': {\n",
    "            'name': 'get_events',\n",
    "            'description': 'Retrieves events from the Google Calendar with specified details.',\n",
    "            'parameters': {\n",
    "                'type': 'object',\n",
    "                'properties': {\n",
    "                    'start_time': {'type': 'string', 'description': 'Start time of the range in ISO 8601 format (e.g., \"2024-06-10T00:00:00Z\")'},\n",
    "                    'end_time': {'type': 'string', 'description': 'End time of the range in ISO 8601 format (e.g., \"2024-06-12T00:00:00Z\")'},\n",
    "                    'max_results': {'type': 'integer', 'description': 'Maximum number of results to retrieve', 'default': 10},\n",
    "                    'time_zone': {'type': 'string', 'description': 'Time zone of the events', 'default': 'Europe/Paris'}\n",
    "                },\n",
    "                'required': []\n",
    "            }\n",
    "        }\n",
    "    },\n",
    "    {\n",
    "        'type': 'function',\n",
    "        'function': {\n",
    "            'name': 'add_event',\n",
    "            'description': 'Adds a new event to the Google Calendar with specified details.',\n",
    "            'parameters': {\n",
    "                'type': 'object',\n",
    "                'properties': {\n",
    "                    'meeting_name': {'type': 'string', 'description': 'Name of the meeting'},\n",
    "                    'start_time': {'type': 'string', 'description': 'Start time of the meeting in ISO 8601 format (e.g., \"2024-06-10T09:00:00Z\")'},\n",
    "                    'duration_minutes': {'type': 'integer', 'description': 'Duration of the meeting in minutes', 'default': 60},\n",
    "                    'reminder_minutes': {'type': 'integer', 'description': 'Reminder time before the meeting in minutes', 'default': 60}\n",
    "                },\n",
    "                'required': ['meeting_name', 'start_time']\n",
    "            }\n",
    "        }\n",
    "    },\n",
    "    {\n",
    "        'type': 'function',\n",
    "        'function': {\n",
    "            'name': 'move_event',\n",
    "            'description': 'Moves an existing event to a new start and end time.',\n",
    "            'parameters': {\n",
    "                'type': 'object',\n",
    "                'properties': {\n",
    "                    'event_id': {'type': 'string', 'description': 'ID of the event to be moved'},\n",
    "                    'new_start_time': {'type': 'string', 'description': 'New start time of the event in ISO 8601 format (e.g., \"2024-06-11T10:00:00Z\")'},\n",
    "                    'new_end_time': {'type': 'string', 'description': 'New end time of the event in ISO 8601 format (e.g., \"2024-06-11T11:00:00Z\")'}\n",
    "                },\n",
    "                'required': ['event_id', 'new_start_time', 'new_end_time']\n",
    "            }\n",
    "        }\n",
    "    }\n",
    "]\n",
    "\n",
    "# Define messages\n",
    "messages = [{\"role\": \"system\", \"content\": f\"You are a Google Assistant helper. Execute the instructions the user gives you, you can guess preferences without asking the user. Just explain your choices after having finished. Current time: {datetime.now().strftime('%Y-%m-%d %H:%M')}\"}]\n",
    "\n",
    "# Define response\n",
    "response = ask_chatgpt_with_tools(\"please reorganize my next 2 days\", function_dict, tools, verbose=False)\n",
    "Markdown(response)"
   ]
  },
  {
   "cell_type": "code",
   "execution_count": 326,
   "metadata": {},
   "outputs": [
    {
     "name": "stdout",
     "output_type": "stream",
     "text": [
      "{'role': 'system', 'content': 'You are a Google Assistant helper. Execute the instructions the user gives you, you can guess preferences without asking the user. Just explain your choices after having finished. Current time: 2024-06-10 00:01'}\n",
      "{'role': 'user', 'content': 'please reorganize my next 2 days'}\n",
      "ChatCompletionMessage(content=None, role='assistant', function_call=None, tool_calls=[ChatCompletionMessageToolCall(id='call_VG7A0rZPdDjA6bxZLfjl8fS3', function=Function(arguments='{\"start_time\":\"2024-06-10T00:00:00Z\",\"end_time\":\"2024-06-12T00:00:00Z\"}', name='get_events'), type='function')])\n",
      "{'tool_call_id': 'call_VG7A0rZPdDjA6bxZLfjl8fS3', 'role': 'tool', 'name': 'get_events', 'content': 'Event: Meeting with Pierre\\nID: 1kde7jjki09tnoccotf01de3js\\nStart: 2024-06-10T12:30:00+02:00\\nEnd: 2024-06-10T13:15:00+02:00\\nDescription: No Description\\nLocation: No Location\\n___\\nEvent: Go Shopping\\nID: m3mq4ivg6a2t9d50up6k37dtmc\\nStart: 2024-06-10T13:45:00+02:00\\nEnd: 2024-06-10T14:45:00+02:00\\nDescription: No Description\\nLocation: No Location\\n___\\nEvent: Go Shopping\\nID: h010g35emund8e7adedacf42lo\\nStart: 2024-06-10T14:45:00+02:00\\nEnd: 2024-06-10T15:45:00+02:00\\nDescription: No Description\\nLocation: No Location\\n___\\nEvent: Walking the dog\\nID: 071v87kp2ne1e4shf45hv4kqtg\\nStart: 2024-06-10T15:00:00+02:00\\nEnd: 2024-06-10T16:00:00+02:00\\nDescription: No Description\\nLocation: No Location\\n___\\nEvent: Go Shopping\\nID: r26f7hj6htofpddrc18t8qpacs\\nStart: 2024-06-10T15:45:00+02:00\\nEnd: 2024-06-10T16:45:00+02:00\\nDescription: No Description\\nLocation: No Location\\n___\\nEvent: Meeting with Boby\\nID: 6ac2cqgd2givm7b8crvl54t7p4\\nStart: 2024-06-10T16:00:00+02:00\\nEnd: 2024-06-10T16:45:00+02:00\\nDescription: No Description\\nLocation: No Location\\n___\\nEvent: go to ESSEC\\nID: 1d0oce9rfbi5qsv92kfa7o4j9v\\nStart: 2024-06-11T11:45:00+02:00\\nEnd: 2024-06-11T12:45:00+02:00\\nDescription: No Description\\nLocation: No Location\\n___\\nEvent: workout\\nID: 7sitkm3275ail3p6tc72csagss\\nStart: 2024-06-11T12:15:00+02:00\\nEnd: 2024-06-11T13:00:00+02:00\\nDescription: No Description\\nLocation: No Location\\n___\\nEvent: cook the meal\\nID: 600k1ckrl2fk5tcdbfltso4a9r\\nStart: 2024-06-11T12:30:00+02:00\\nEnd: 2024-06-11T13:30:00+02:00\\nDescription: No Description\\nLocation: No Location'}\n",
      "ChatCompletionMessage(content=\"Let's start by rearranging June 10th as there are overlapping events:\\n\\n1. **Meeting with Pierre (12:30 - 13:15)**\\n2. **Go Shopping (first instance 13:45 - 14:45)**\\n3. **Walking the dog (15:00 - 16:00)**\\n4. **Go Shopping (second instance 14:45 - 15:45)**\\n5. **Go Shopping (third instance 15:45 - 16:45)**\\n6. **Meeting with Boby (16:00 - 16:45)**\\n\\nTo prevent the overlapping, we'll move:\\n- Second Go Shopping from 14:45 - 15:45 to 17:00 - 18:00\\n- Third Go Shopping from 15:45 - 16:45 to 18:00 - 19:00\\n- Walking the dog could follow at 19:00.\\n\\nFor June 11th:\\n1. **go to ESSEC (11:45 - 12:45)**\\n2. **workout (12:15 - 13:00)**\\n3. **cook the meal (12:30 - 13:30)**\\n\\nWe'll rearrange:\\n- workout from 12:15 - 13:00 to 10:00 - 10:45\\n- cook the meal from 12:30 - 13:30 to 13:00 - 14:00 \\n\\nWe'll start with June 10th rearrangement.\", role='assistant', function_call=None, tool_calls=[ChatCompletionMessageToolCall(id='call_cyf8qLyg8nuLZlYZjaoUnjeU', function=Function(arguments='{\"event_id\": \"h010g35emund8e7adedacf42lo\", \"new_start_time\": \"2024-06-10T17:00:00+02:00\", \"new_end_time\": \"2024-06-10T18:00:00+02:00\"}', name='move_event'), type='function'), ChatCompletionMessageToolCall(id='call_cuvDMTH35iskJedyrDc51mwL', function=Function(arguments='{\"event_id\": \"r26f7hj6htofpddrc18t8qpacs\", \"new_start_time\": \"2024-06-10T18:00:00+02:00\", \"new_end_time\": \"2024-06-10T19:00:00+02:00\"}', name='move_event'), type='function'), ChatCompletionMessageToolCall(id='call_kvnPlTtkyJHnFyTU9NSAumUZ', function=Function(arguments='{\"event_id\": \"071v87kp2ne1e4shf45hv4kqtg\", \"new_start_time\": \"2024-06-10T19:00:00+02:00\", \"new_end_time\": \"2024-06-10T20:00:00+02:00\"}', name='move_event'), type='function')])\n",
      "{'tool_call_id': 'call_cyf8qLyg8nuLZlYZjaoUnjeU', 'role': 'tool', 'name': 'move_event', 'content': \"{'status': 'confirmed'}\"}\n",
      "{'tool_call_id': 'call_cuvDMTH35iskJedyrDc51mwL', 'role': 'tool', 'name': 'move_event', 'content': \"{'status': 'confirmed'}\"}\n",
      "{'tool_call_id': 'call_kvnPlTtkyJHnFyTU9NSAumUZ', 'role': 'tool', 'name': 'move_event', 'content': \"{'status': 'confirmed'}\"}\n",
      "ChatCompletionMessage(content=None, role='assistant', function_call=None, tool_calls=[ChatCompletionMessageToolCall(id='call_x6xIpSJ831XnyQXjWJbI37co', function=Function(arguments='{\"event_id\": \"7sitkm3275ail3p6tc72csagss\", \"new_start_time\": \"2024-06-11T10:00:00+02:00\", \"new_end_time\": \"2024-06-11T10:45:00+02:00\"}', name='move_event'), type='function'), ChatCompletionMessageToolCall(id='call_z1vyVSxoOxNbjAet7iKqH2jo', function=Function(arguments='{\"event_id\": \"600k1ckrl2fk5tcdbfltso4a9r\", \"new_start_time\": \"2024-06-11T13:00:00+02:00\", \"new_end_time\": \"2024-06-11T14:00:00+02:00\"}', name='move_event'), type='function')])\n",
      "{'tool_call_id': 'call_x6xIpSJ831XnyQXjWJbI37co', 'role': 'tool', 'name': 'move_event', 'content': \"{'status': 'confirmed'}\"}\n",
      "{'tool_call_id': 'call_z1vyVSxoOxNbjAet7iKqH2jo', 'role': 'tool', 'name': 'move_event', 'content': \"{'status': 'confirmed'}\"}\n",
      "ChatCompletionMessage(content=\"Here's the updated schedule for the next two days:\\n\\n### June 10th:\\n- **12:30 - 13:15**: Meeting with Pierre\\n- **13:45 - 14:45**: Go Shopping\\n- **16:00 - 16:45**: Meeting with Boby\\n- **17:00 - 18:00**: Go Shopping\\n- **18:00 - 19:00**: Go Shopping\\n- **19:00 - 20:00**: Walking the dog\\n\\n### June 11th:\\n- **10:00 - 10:45**: Workout\\n- **11:45 - 12:45**: Go to ESSEC\\n- **13:00 - 14:00**: Cook the meal\\n\\nYour schedule has been reorganized to avoid overlapping commitments and ensure a smoother flow.\", role='assistant', function_call=None, tool_calls=None)\n"
     ]
    }
   ],
   "source": [
    "for message in messages:\n",
    "    print(message)"
   ]
  }
 ],
 "metadata": {
  "kernelspec": {
   "display_name": "base",
   "language": "python",
   "name": "python3"
  },
  "language_info": {
   "codemirror_mode": {
    "name": "ipython",
    "version": 3
   },
   "file_extension": ".py",
   "mimetype": "text/x-python",
   "name": "python",
   "nbconvert_exporter": "python",
   "pygments_lexer": "ipython3",
   "version": "3.11.5"
  }
 },
 "nbformat": 4,
 "nbformat_minor": 2
}
